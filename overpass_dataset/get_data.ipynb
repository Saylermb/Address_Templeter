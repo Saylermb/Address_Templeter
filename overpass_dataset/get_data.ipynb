{
 "cells": [
  {
   "cell_type": "code",
   "execution_count": 336,
   "metadata": {
    "collapsed": true,
    "pycharm": {
     "name": "#%% import overpath \n",
     "is_executing": false
    }
   },
   "outputs": [],
   "source": [
    "import re\n",
    "from collections import Counter\n",
    "import overpy \n",
    "from random import randint\n",
    "from training.xml_writer import AddressesXML\n",
    "from address_templeter import LABELS, STREET_PRETEXT, \\\n",
    "    PLACE_PRETEXT, REGION_PRETEXT, HOUSE_PRETEXT,\\\n",
    "    PUNCTUATION_MARK, DASH, tokenize, in_pre\n",
    "api = overpy.Overpass()"
   ]
  },
  {
   "cell_type": "code",
   "execution_count": 348,
   "outputs": [],
   "source": [
    "geo_polygon = \"(50.462287,30.499273,50.530674,30.564974)\"\n",
    "response = api.query(f\"\"\"way[\"addr:street\"][\"addr:housenumber\"]{geo_polygon};\n",
    "    (._;>;);\n",
    "    out body;\"\"\")"
   ],
   "metadata": {
    "collapsed": false,
    "pycharm": {
     "name": "#%%\n",
     "is_executing": false
    }
   }
  },
  {
   "cell_type": "code",
   "execution_count": 349,
   "outputs": [],
   "source": [
    "address_way = [way.tags for way in response.ways]\n"
   ],
   "metadata": {
    "collapsed": false,
    "pycharm": {
     "name": "#%%\n",
     "is_executing": false
    }
   }
  },
  {
   "cell_type": "code",
   "execution_count": 350,
   "outputs": [
    {
     "data": {
      "text/plain": "['виховний',\n 'комплекс',\n 'ринок',\n 'центр',\n 'маркет',\n 'юнацька',\n 'футбольна',\n 'школа',\n 'дитяча',\n 'поліклініка',\n 'району',\n 'районна',\n 'державна',\n 'адміністрація',\n 'motors',\n 'обслуговування',\n 'церква',\n 'тітка',\n 'районний',\n 'фінансів',\n 'університету',\n 'академія',\n 'слідче',\n 'управління',\n 'податкова',\n 'інспекція',\n 'офис',\n 'соціального',\n 'захисту',\n 'інвалідів',\n 'надання',\n 'адміністративних',\n 'послуг',\n 'метро',\n 'титул',\n 'здорового',\n 'материнства',\n 'національний',\n 'університет',\n 'театру',\n 'кіно',\n 'телебачення',\n 'імені',\n 'моделей',\n 'обуви',\n 'склады',\n 'сьомого',\n 'корпус',\n 'гідробіології',\n 'археології',\n 'мистецтв',\n 'радіовежа',\n 'української',\n 'культури',\n 'мистецтва',\n 'морського',\n 'річкового',\n 'флоту',\n 'садок',\n 'дитячий',\n 'ластівка',\n 'ліцею',\n 'стоматологическая',\n 'поликлиника',\n 'оздоровчо',\n 'екологічний',\n 'інтернат',\n 'будинок',\n 'тубінфікованих',\n 'славістичний',\n 'поліції',\n 'охорони',\n 'початкова',\n 'відокремлений',\n 'підрозділ',\n 'теплові',\n 'мережі',\n 'лікарня',\n 'станція',\n 'клуб']"
     },
     "metadata": {},
     "output_type": "execute_result",
     "execution_count": 350
    }
   ],
   "source": [
    "count = Counter()\n",
    "for adr in address_way:\n",
    "    for word in re.findall(r\"\\w+\", adr.get('name', '')):\n",
    "        if word[0].islower():\n",
    "            count[word]+=1\n",
    "[s for s in count if len(s)> 3]"
   ],
   "metadata": {
    "collapsed": false,
    "pycharm": {
     "name": "#%%\n",
     "is_executing": false
    }
   }
  },
  {
   "cell_type": "code",
   "execution_count": 339,
   "outputs": [],
   "source": [
    "iter_address = iter(address_way)"
   ],
   "metadata": {
    "collapsed": false,
    "pycharm": {
     "name": "#%%\n",
     "is_executing": false
    }
   }
  },
  {
   "cell_type": "code",
   "execution_count": 340,
   "outputs": [],
   "source": [
    "def addr_housenumber(housenumber):\n",
    "    \n",
    "    def mark_house(part_house):\n",
    "        if part_house in PUNCTUATION_MARK:\n",
    "            return \"PunctuationMark\", part_house\n",
    "        elif part_house == '-':\n",
    "            return \"Dash\", part_house\n",
    "        else:\n",
    "            return 'HouseNumber', part_house\n",
    "    result = []\n",
    "    housenumber = re.findall(\"\\d+|\\w+|[/]\", housenumber)\n",
    "    variant = randint(1,4)\n",
    "    if len(housenumber) > 3:\n",
    "        variant = randint(1,2)\n",
    "    patterns = {1:[\"\".join(housenumber)], 2:housenumber, 3:[\"-\".join(housenumber)], \n",
    "                4:[housenumber[0], \"-\", housenumber[1] if len(housenumber) >=2 else \"\".join(housenumber)]}\n",
    "    for s in patterns.get(variant):\n",
    "        result.append(mark_house(s))\n",
    "    return result\n",
    "\n",
    "def addr_name(name):\n",
    "    result = []\n",
    "    splited = re.findall(r\"[\\w]+|\\,\\(\\)\\!\\?\", name)\n",
    "    for s in splited:\n",
    "        if s in PUNCTUATION_MARK:\n",
    "            result.append((\"PunctuationMark\", s))\n",
    "        else:\n",
    "            result.append((\"HouseName\", s))\n",
    "    return result\n",
    "\n",
    "def post_code(code):\n",
    "    return [(\"PostCode\", code)]\n",
    "\n",
    "def street(street_name):\n",
    "    result =[]\n",
    "    splited = re.findall(r\"[\\w]+|\\,\\(\\)\\!\\?\", street_name)\n",
    "    for s in splited:\n",
    "        if s in PUNCTUATION_MARK:\n",
    "            result.append((\"PunctuationMark\", s))\n",
    "        if s in STREET_PRETEXT:\n",
    "            result.append((\"StreetPretext\", s)) \n",
    "        else:\n",
    "            result.append((\"Street\", s))\n",
    "    if randint(0,1):\n",
    "        pre = result.pop(-1)\n",
    "        result.insert(0, pre)\n",
    "    return result\n",
    "\n",
    "def other(text):\n",
    "    result = []\n",
    "    splited = re.findall(r\"[\\w]+|\\,\\(\\)\\!\\?\", text)\n",
    "    for s in splited:\n",
    "        if s in PUNCTUATION_MARK:\n",
    "            result.append((\"PunctuationMark\", s))\n",
    "        if s.isdigit():\n",
    "            result.append((\"OtherNumber\", s)) \n",
    "        else:\n",
    "            result.append((\"OtherText\", s))\n",
    "    return result"
   ],
   "metadata": {
    "collapsed": false,
    "pycharm": {
     "name": "#%%\n",
     "is_executing": false
    }
   }
  },
  {
   "cell_type": "code",
   "execution_count": 341,
   "outputs": [],
   "source": [
    "def get_row():\n",
    "    rnd = randint(0,3)\n",
    "    row = [[(\"PlacePretext\", \"г\"), (\"Place\", \"Киев\"),], \n",
    "           [(\"PlacePretext\", \"г\"), (\"Place\", \"Киев\"),(\"Dash\", \"-\"), (\"Place\", \"Подольск\"),], \n",
    "           [(\"PlacePretext\", \"г\"), (\"Place\", \"Киев-Подольск\")], \n",
    "           [(\"PlacePretext\", \"г\"), (\"Place\", '\"Киев\"')]]\n",
    "    return row[rnd]\n",
    "\n",
    "func_dict = {'addr:housenumber':addr_housenumber, \n",
    "             'addr:postcode': post_code, \n",
    "             'addr:street':street,\n",
    "             'name': addr_name,}\n"
   ],
   "metadata": {
    "collapsed": false,
    "pycharm": {
     "name": "#%%\n",
     "is_executing": false
    }
   }
  },
  {
   "cell_type": "code",
   "execution_count": 342,
   "outputs": [],
   "source": [
    "def pars_address(address):\n",
    "    row = get_row()\n",
    "    address = {'addr:street':address.get('addr:street'), \n",
    "               'addr:housenumber': address.get('addr:housenumber'), \n",
    "               'name':address.get('name'), \n",
    "               'addr:postcode':address.get('addr:postcode'), **address}\n",
    "    address['building']=0\n",
    "    address['building:levels']=0\n",
    "    \n",
    "    for key, value in address.items():\n",
    "        if value:\n",
    "            if randint(0,1):\n",
    "                row.append((\"PunctuationMark\", \",\"))\n",
    "            for v in func_dict.get(key, other)(value):\n",
    "                \n",
    "                row.append(v)\n",
    "    return row"
   ],
   "metadata": {
    "collapsed": false,
    "pycharm": {
     "name": "#%%\n",
     "is_executing": false
    }
   }
  },
  {
   "cell_type": "code",
   "execution_count": 343,
   "outputs": [],
   "source": [
    "xml = AddressesXML()\n",
    "for addr in iter_address:\n",
    "    xml.append(pars_address(addr))"
   ],
   "metadata": {
    "collapsed": false,
    "pycharm": {
     "name": "#%%\n",
     "is_executing": false
    }
   }
  },
  {
   "cell_type": "code",
   "execution_count": 344,
   "outputs": [],
   "source": [
    "xml.write(\"/home/maksim/PycharmProjects/adressparser/training/checked_osm.txt\")\n",
    "\n"
   ],
   "metadata": {
    "collapsed": false,
    "pycharm": {
     "name": "#%%\n",
     "is_executing": false
    }
   }
  },
  {
   "cell_type": "code",
   "execution_count": null,
   "outputs": [],
   "source": [
    "\n"
   ],
   "metadata": {
    "collapsed": false,
    "pycharm": {
     "name": "#%%\n"
    }
   }
  }
 ],
 "metadata": {
  "language_info": {
   "codemirror_mode": {
    "name": "ipython",
    "version": 2
   },
   "file_extension": ".py",
   "mimetype": "text/x-python",
   "name": "python",
   "nbconvert_exporter": "python",
   "pygments_lexer": "ipython2",
   "version": "2.7.6"
  },
  "kernelspec": {
   "name": "python3",
   "language": "python",
   "display_name": "Python 3"
  },
  "pycharm": {
   "stem_cell": {
    "cell_type": "raw",
    "source": [],
    "metadata": {
     "collapsed": false
    }
   }
  }
 },
 "nbformat": 4,
 "nbformat_minor": 0
}